{
  "cells": [
    {
      "cell_type": "code",
      "execution_count": 4,
      "metadata": {
        "trusted": true
      },
      "outputs": [],
      "source": [
        "import numpy as np\n",
        "import matplotlib.pyplot as plt\n",
        "%matplotlib inline\n",
        "import MyBasis as mB\n",
        "import Hubb as Hb\n",
        "import math\n",
        "import CompareStrings as CS\n",
        "import nfile as nf\n",
        "m = 3 # number of nodes\n",
        "dimens = m*m # dimension of status \n",
        "nmax = 1\n",
        "N = 1 # number particles \n",
        "mu = 0 # chemical potential < 0 ( + in Hubbard )\n",
        "V = 0 # non-magnetic impurities\n",
        "t = 1 # amplitude of jump\n",
        "delta = 0 # amplitude of pairing \n",
        "sum1 = -t*math.sqrt(2)\n"
      ]
    },
    {
      "cell_type": "code",
      "execution_count": 5,
      "metadata": {
        "trusted": true
      },
      "outputs": [
        {
          "name": "stdout",
          "output_type": "stream",
          "text": [
            "[[0. 0. 0. 0. 0. 0. 0. 0. 1.]\n",
            " [0. 0. 0. 0. 0. 0. 0. 1. 0.]\n",
            " [0. 0. 0. 0. 0. 0. 1. 0. 0.]\n",
            " [0. 0. 0. 0. 0. 1. 0. 0. 0.]\n",
            " [0. 0. 0. 0. 1. 0. 0. 0. 0.]\n",
            " [0. 0. 0. 1. 0. 0. 0. 0. 0.]\n",
            " [0. 0. 1. 0. 0. 0. 0. 0. 0.]\n",
            " [0. 1. 0. 0. 0. 0. 0. 0. 0.]\n",
            " [1. 0. 0. 0. 0. 0. 0. 0. 0.]]\n"
          ]
        }
      ],
      "source": [
        "z = mB.Basis(dimens,nmax,N)\n",
        "B = z.Basis2() \n",
        "print(B)\n",
        "H = np.zeros((dimens,dimens))\n",
        "\n"
      ]
    },
    {
      "cell_type": "code",
      "execution_count": 6,
      "metadata": {
        "tags": [],
        "trusted": true
      },
      "outputs": [
        {
          "name": "stdout",
          "output_type": "stream",
          "text": [
            "[[ 0.         -1.41421356 -1.41421356 -1.41421356  0.          0.\n",
            "  -1.41421356  0.          0.        ]\n",
            " [-1.41421356  0.         -1.41421356  0.         -1.41421356  0.\n",
            "   0.         -1.41421356  0.        ]\n",
            " [-1.41421356 -1.41421356  0.          0.          0.         -1.41421356\n",
            "   0.          0.         -1.41421356]\n",
            " [-1.41421356  0.          0.          0.         -1.41421356 -1.41421356\n",
            "  -1.41421356  0.          0.        ]\n",
            " [ 0.         -1.41421356  0.         -1.41421356  0.         -1.41421356\n",
            "   0.         -1.41421356  0.        ]\n",
            " [ 0.          0.         -1.41421356 -1.41421356 -1.41421356  0.\n",
            "   0.          0.         -1.41421356]\n",
            " [-1.41421356  0.          0.         -1.41421356  0.          0.\n",
            "   0.         -1.41421356 -1.41421356]\n",
            " [ 0.         -1.41421356  0.          0.         -1.41421356  0.\n",
            "  -1.41421356  0.         -1.41421356]\n",
            " [ 0.          0.         -1.41421356  0.          0.         -1.41421356\n",
            "  -1.41421356 -1.41421356  0.        ]]\n"
          ]
        },
        {
          "data": {
            "text/plain": [
              "[<matplotlib.lines.Line2D at 0x28617d4e2b0>]"
            ]
          },
          "execution_count": 6,
          "metadata": {},
          "output_type": "execute_result"
        },
        {
          "data": {
            "image/png": "[encoded data removed]",
            "text/plain": [
              "<Figure size 432x288 with 1 Axes>"
            ]
          },
          "metadata": {
            "needs_background": "light"
          },
          "output_type": "display_data"
        }
      ],
      "source": [
        "# поиск соседей \n",
        "d = Hb.Hubbard(m)\n",
        "for p in range(m):\n",
        "    for s in range(m):\n",
        "        setka = np.zeros((m,m))\n",
        "        setka[p][s] = 1\n",
        "        str_start = nf.matrix_number(setka)\n",
        "        particle = [p,s]\n",
        "        y = d.neighbours(particle)\n",
        "        #print(y)\n",
        "\n",
        "        str1 = []\n",
        "        str2 = []\n",
        "        str3 = []\n",
        "        str4 = []\n",
        "        for i in range(len(y)):\n",
        "            setka = np.zeros((m,m))\n",
        "            setka[y[i][0]][y[i][1]] = 1\n",
        "            #print(setka)\n",
        "            for k in range(len(setka)):\n",
        "                for j in range(len(setka)):\n",
        "                    if i == 1:\n",
        "                        str1.append(setka[k][j])\n",
        "                    elif i == 2:\n",
        "                        str2.append(setka[k][j])\n",
        "                    elif i == 3:\n",
        "                        str3.append(setka[k][j])\n",
        "                    else:\n",
        "                        str4.append(setka[k][j])\n",
        "\n",
        "        k1 = CS.CompareStrings(str1,B)\n",
        "        k2 = CS.CompareStrings(str2,B)\n",
        "        k3 = CS.CompareStrings(str3,B)\n",
        "        k4 = CS.CompareStrings(str4,B)\n",
        "        \n",
        "        i = CS.CompareStrings(str_start,B)\n",
        "                    \n",
        "\n",
        "                    \n",
        "        H[i][k1] += sum1\n",
        "        H[i][k2] += sum1\n",
        "        H[i][k3] += sum1\n",
        "        H[i][k4] += sum1\n",
        "\n",
        "print(H)\n",
        "\n",
        "E,C = np.linalg.eig(H)\n",
        "\n",
        "plt.plot(sorted(E))\n",
        "\n",
        "\n"
      ]
    }
  ],
  "metadata": {
    "kernelspec": {
      "display_name": "Python 3.9.12 ('base')",
      "language": "python",
      "name": "python3"
    },
    "language_info": {
      "codemirror_mode": {
        "name": "ipython",
        "version": 3
      },
      "file_extension": ".py",
      "mimetype": "text/x-python",
      "name": "python",
      "nbconvert_exporter": "python",
      "pygments_lexer": "ipython3",
      "version": "3.9.12"
    },
    "vscode": {
      "interpreter": {
        "hash": "cb0df4b09d8580e444004bb3002ed27bf4da2d06c2b824450eda73cb9c4daadf"
      }
    }
  },
  "nbformat": 4,
  "nbformat_minor": 4
}
