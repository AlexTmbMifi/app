{
  "metadata": {
    "language_info": {
      "codemirror_mode": {
        "name": "python",
        "version": 3
      },
      "file_extension": ".py",
      "mimetype": "text/x-python",
      "name": "python",
      "nbconvert_exporter": "python",
      "pygments_lexer": "ipython3",
      "version": "3.8"
    },
    "kernelspec": {
      "name": "python",
      "display_name": "Python (Pyodide)",
      "language": "python"
    }
  },
  "nbformat_minor": 4,
  "nbformat": 4,
  "cells": [
    {
      "cell_type": "code",
      "source": "import numpy as np\nimport matplotlib.pyplot as plt\n%matplotlib inline\nimport MyBasis as mB\nimport Hubb as Hb\nimport math\nimport CompareStrings as CS\nimport nfile as nf\nm = 3 # number of nodes\ndimens = m*m # dimension of status \nnmax = 1\nN = 1 # number particles \nmu = 0 # chemical potential < 0 ( + in Hubbard )\nV = 0 # non-magnetic impurities\nt = 1 # amplitude of jump\ndelta = 0 # amplitude of pairing \nsum1 = -t*math.sqrt(2)\n",
      "metadata": {
        "trusted": true
      },
      "execution_count": 1,
      "outputs": []
    },
    {
      "cell_type": "code",
      "source": "z = mB.Basis(dimens,nmax,N)\nB = z.Basis2() \nprint(B)\nH = np.zeros((dimens,dimens))\n\n",
      "metadata": {
        "trusted": true
      },
      "execution_count": 2,
      "outputs": [
        {
          "name": "stdout",
          "text": "[[0. 0. 0. 0. 0. 0. 0. 0. 1.]\n [0. 0. 0. 0. 0. 0. 0. 1. 0.]\n [0. 0. 0. 0. 0. 0. 1. 0. 0.]\n [0. 0. 0. 0. 0. 1. 0. 0. 0.]\n [0. 0. 0. 0. 1. 0. 0. 0. 0.]\n [0. 0. 0. 1. 0. 0. 0. 0. 0.]\n [0. 0. 1. 0. 0. 0. 0. 0. 0.]\n [0. 1. 0. 0. 0. 0. 0. 0. 0.]\n [1. 0. 0. 0. 0. 0. 0. 0. 0.]]\n",
          "output_type": "stream"
        }
      ]
    },
    {
      "cell_type": "code",
      "source": "# поиск соседей \nd = Hb.Hubbard(m)\nfor p in range(m):\n    for s in range(m):\n        setka = np.zeros((m,m))\n        setka[p][s] = 1\n        str_start = nf.matrix_number(setka)\n        particle = [p,s]\n        y = d.neighbours(particle)\n        #print(y)\n\n        str1 = []\n        str2 = []\n        str3 = []\n        str4 = []\n        for i in range(len(y)):\n            setka = np.zeros((m,m))\n            setka[y[i][0]][y[i][1]] = 1\n            #print(setka)\n            for k in range(len(setka)):\n                for j in range(len(setka)):\n                    if i == 1:\n                        str1.append(setka[k][j])\n                    elif i == 2:\n                        str2.append(setka[k][j])\n                    elif i == 3:\n                        str3.append(setka[k][j])\n                    else:\n                        str4.append(setka[k][j])\n\n        k1 = CS.CompareStrings(str1,B)\n        k2 = CS.CompareStrings(str2,B)\n        k3 = CS.CompareStrings(str3,B)\n        k4 = CS.CompareStrings(str4,B)\n        \n        i = CS.CompareStrings(str_start,B)\n                    \n\n                    \n        H[i][k1] += sum1\n        H[i][k2] += sum1\n        H[i][k3] += sum1\n        H[i][k4] += sum1\n\nprint(H)\n\nE,C = np.linalg.eig(H)\n\nplt.plot(sorted(E))\n\n\n",
      "metadata": {
        "tags": [],
        "trusted": true
      },
      "execution_count": 3,
      "outputs": [
        {
          "name": "stdout",
          "text": "[[ 0.         -1.41421356 -1.41421356 -1.41421356  0.          0.\n  -1.41421356  0.          0.        ]\n [-1.41421356  0.         -1.41421356  0.         -1.41421356  0.\n   0.         -1.41421356  0.        ]\n [-1.41421356 -1.41421356  0.          0.          0.         -1.41421356\n   0.          0.         -1.41421356]\n [-1.41421356  0.          0.          0.         -1.41421356 -1.41421356\n  -1.41421356  0.          0.        ]\n [ 0.         -1.41421356  0.         -1.41421356  0.         -1.41421356\n   0.         -1.41421356  0.        ]\n [ 0.          0.         -1.41421356 -1.41421356 -1.41421356  0.\n   0.          0.         -1.41421356]\n [-1.41421356  0.          0.         -1.41421356  0.          0.\n   0.         -1.41421356 -1.41421356]\n [ 0.         -1.41421356  0.          0.         -1.41421356  0.\n  -1.41421356  0.         -1.41421356]\n [ 0.          0.         -1.41421356  0.          0.         -1.41421356\n  -1.41421356 -1.41421356  0.        ]]\n",
          "output_type": "stream"
        },
        {
          "execution_count": 3,
          "output_type": "execute_result",
          "data": {
            "text/plain": "[<matplotlib.lines.Line2D at 0x2b59bc8>]"
          },
          "metadata": {}
        },
        {
          "output_type": "display_data",
          "data": {
            "text/plain": "<Figure size 432x288 with 1 Axes>",
            "image/png": "[encoded data removed]"
          },
          "metadata": {
            "needs_background": "light"
          }
        }
      ]
    }
  ]
}